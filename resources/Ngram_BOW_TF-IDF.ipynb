{
 "cells": [
  {
   "cell_type": "markdown",
   "metadata": {},
   "source": [
    "# Ngram, BOW"
   ]
  },
  {
   "cell_type": "markdown",
   "metadata": {},
   "source": [
    "## Ngram"
   ]
  },
  {
   "cell_type": "markdown",
   "metadata": {},
   "source": [
    "입력된 텍스트로부터 Ngram 생성"
   ]
  },
  {
   "cell_type": "code",
   "execution_count": 31,
   "metadata": {
    "scrolled": true
   },
   "outputs": [
    {
     "name": "stdout",
     "output_type": "stream",
     "text": [
      "('this', 'is', 'a')\n",
      "('is', 'a', 'foo')\n",
      "('a', 'foo', 'bar')\n",
      "('foo', 'bar', 'sentences')\n",
      "('bar', 'sentences', 'and')\n",
      "('sentences', 'and', 'i')\n",
      "('and', 'i', 'want')\n",
      "('i', 'want', 'to')\n",
      "('want', 'to', 'ngramize')\n",
      "('to', 'ngramize', 'it')\n"
     ]
    }
   ],
   "source": [
    "import nltk\n",
    "import sklearn\n",
    "from nltk import ngrams\n",
    "sentence = 'this is a foo bar sentences and i want to ngramize it'\n",
    "n = 3 # you can give 4, 5, 1 or any number less than sentences length\n",
    "ngramsres = ngrams(sentence.split(), n)\n",
    "for grams in ngramsres:\n",
    "    print (grams)"
   ]
  },
  {
   "cell_type": "markdown",
   "metadata": {},
   "source": [
    "<앵커>

KT 지사 건물과 통신 케이블이 불에 타면서 서울 서북부 지역에 벌어진 통신대란, 오늘(25일)도 이틀째 이어졌습니다. 복구를 하려고 노력은 하고 있지만, 앞으로 일주일은 더 걸릴 것 같습니다

먼저 오늘 전체적인 상황 이호건 기자가 정리했습니다.

<기자>

서울 KT 아현지사 건물 지하, 불이 난 통신구 내부 모습입니다.

화마가 휩쓸고 간 흔적이 고스란히 남아 있습니다.

케이블들이 녹아 내린 채 불타 엉켜 있고 서랍장의 작업복과 헬멧은 시커멓게 그을렸습니다.

사용해 보지도 못한 소화기는 재를 뒤집어쓴 채 바닥에 나뒹굴고 있습니다.

경찰과 소방 당국, 한전, KT가 합동 감식에 나선 결과 지하 1층 통신구 150m 가운데 79m가 불탄 것으로 확인됐습니다.

우선은 타버린 부분을 우회해 통신망을 연결하기 위한 임시 복구 작업이 종일 이어졌습니다.

불이 난 구역을 지나던 지하 케이블을 피해를 입지 않은 구역의 맨홀을 통해 지상으로 끌어낸 뒤 KT 아현지사 옥상의 통신 장비와 연결한 겁니다.

KT는 오늘 저녁 6시 기준으로 이동전화 기지국은 2,833개 중 63%를 복구했고 카드 결제 등에 쓰는 일반 인터넷 회선은 21만 5천 가입자 가운데 97%까지 복구했다고 밝혔습니다.

하지만 아현지사가 제 역할을 하는 완전 복구까지는 1주일 정도가 걸릴 전망입니다.

화재 원인은 아직도 오리무중입니다.

경찰은 내일 오전 국립과학수사연구원과 함께 정밀 감식에 나섭니다.

(영상취재 : 김태훈, 영상편집 : 장현기)   

이호건 기자(hogeni@sbs.co.kr)"
   ]
  },

 ],
 "metadata": {
  "kernelspec": {
   "display_name": "Python 3",
   "language": "python",
   "name": "python3"
  },
  "language_info": {
   "codemirror_mode": {
    "name": "ipython",
    "version": 3
   },
   "file_extension": ".py",
   "mimetype": "text/x-python",
   "name": "python",
   "nbconvert_exporter": "python",
   "pygments_lexer": "ipython3",
   "version": "3.6.3"
  }
 },
 "nbformat": 4,
 "nbformat_minor": 2
}
